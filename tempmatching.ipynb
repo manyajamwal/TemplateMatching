{
 "cells": [
  {
   "cell_type": "markdown",
   "id": "85627256",
   "metadata": {},
   "source": [
    "#### Importing necessary libraries"
   ]
  },
  {
   "cell_type": "code",
   "execution_count": 1,
   "id": "72a95c1d",
   "metadata": {},
   "outputs": [],
   "source": [
    "import numpy\n",
    "import cv2\n"
   ]
  },
  {
   "cell_type": "markdown",
   "id": "2386e3e7",
   "metadata": {},
   "source": [
    "#### loading image and template"
   ]
  },
  {
   "cell_type": "code",
   "execution_count": 2,
   "id": "0f0ef0c2",
   "metadata": {},
   "outputs": [],
   "source": [
    "image=cv2.imread(r'C:\\Users\\manya\\OpenCV-Tutorials\\soccer.jpg',cv2.IMREAD_UNCHANGED)"
   ]
  },
  {
   "cell_type": "code",
   "execution_count": 3,
   "id": "b0e77f1b",
   "metadata": {},
   "outputs": [],
   "source": [
    "template=cv2.imread(r'C:\\Users\\manya\\OpenCV-Tutorials\\face.jpg',cv2.IMREAD_UNCHANGED)\n"
   ]
  },
  {
   "cell_type": "markdown",
   "id": "09752e79",
   "metadata": {},
   "source": [
    "#### Showing image and template"
   ]
  },
  {
   "cell_type": "code",
   "execution_count": 4,
   "id": "a6050f83",
   "metadata": {},
   "outputs": [],
   "source": [
    "cv2.imshow('Soccer', image)\n",
    "cv2.waitKey()\n",
    "cv2.destroyAllWindows()"
   ]
  },
  {
   "cell_type": "code",
   "execution_count": 5,
   "id": "f1c32eac",
   "metadata": {},
   "outputs": [],
   "source": [
    "cv2.imshow('Face', template)\n",
    "cv2.waitKey()\n",
    "cv2.destroyAllWindows()"
   ]
  },
  {
   "cell_type": "markdown",
   "id": "0a1353c1",
   "metadata": {},
   "source": [
    "#### Template matching"
   ]
  },
  {
   "cell_type": "code",
   "execution_count": 6,
   "id": "97ad63d0",
   "metadata": {},
   "outputs": [],
   "source": [
    "result=cv2.matchTemplate(image, template, cv2.TM_CCOEFF_NORMED)\n"
   ]
  },
  {
   "cell_type": "markdown",
   "id": "0436490e",
   "metadata": {},
   "source": [
    "#### Show result"
   ]
  },
  {
   "cell_type": "code",
   "execution_count": 7,
   "id": "589f310e",
   "metadata": {},
   "outputs": [],
   "source": [
    "cv2.imshow('Result', result)\n",
    "cv2.waitKey()\n",
    "cv2.destroyAllWindows()"
   ]
  },
  {
   "cell_type": "markdown",
   "id": "84f905da",
   "metadata": {},
   "source": [
    "#### Get max result"
   ]
  },
  {
   "cell_type": "code",
   "execution_count": 8,
   "id": "8f757566",
   "metadata": {},
   "outputs": [],
   "source": [
    "min_val, max_val, min_loc, max_loc = cv2.minMaxLoc(result)"
   ]
  },
  {
   "cell_type": "code",
   "execution_count": 9,
   "id": "815c7f20-4b9a-4726-8892-014b1928c90b",
   "metadata": {},
   "outputs": [
    {
     "data": {
      "text/plain": [
       "(560, 248)"
      ]
     },
     "execution_count": 9,
     "metadata": {},
     "output_type": "execute_result"
    }
   ],
   "source": [
    "max_loc"
   ]
  },
  {
   "cell_type": "markdown",
   "id": "575e1e03",
   "metadata": {},
   "source": [
    "#### Drawing square on main image"
   ]
  },
  {
   "cell_type": "code",
   "execution_count": 10,
   "id": "9c9690c2-6b01-4f28-8704-a03cb8876976",
   "metadata": {
    "jupyter": {
     "source_hidden": true
    },
    "tags": []
   },
   "outputs": [],
   "source": [
    "w = template.shape[1]\n",
    "h = template.shape[0]"
   ]
  },
  {
   "cell_type": "code",
   "execution_count": 11,
   "id": "957aface-8afe-472b-9508-d6ddda3a2d2d",
   "metadata": {},
   "outputs": [
    {
     "data": {
      "text/plain": [
       "array([[[ 11,  16,  55],\n",
       "        [ 15,  21,  56],\n",
       "        [ 25,  33,  62],\n",
       "        ...,\n",
       "        [ 26,  33,  82],\n",
       "        [ 35,  44, 112],\n",
       "        [ 51,  57, 132]],\n",
       "\n",
       "       [[ 27,  34,  67],\n",
       "        [ 32,  40,  70],\n",
       "        [ 41,  52,  74],\n",
       "        ...,\n",
       "        [  9,  16,  59],\n",
       "        [ 16,  24,  83],\n",
       "        [ 26,  34, 101]],\n",
       "\n",
       "       [[ 44,  52,  75],\n",
       "        [ 42,  52,  70],\n",
       "        [ 42,  53,  67],\n",
       "        ...,\n",
       "        [  0,   7,  36],\n",
       "        [  4,  11,  54],\n",
       "        [  9,  16,  66]],\n",
       "\n",
       "       ...,\n",
       "\n",
       "       [[123, 127, 156],\n",
       "        [196, 197, 217],\n",
       "        [236, 230, 231],\n",
       "        ...,\n",
       "        [230, 222, 199],\n",
       "        [235, 228, 203],\n",
       "        [241, 234, 209]],\n",
       "\n",
       "       [[101, 105, 133],\n",
       "        [192, 192, 210],\n",
       "        [227, 219, 219],\n",
       "        ...,\n",
       "        [237, 229, 206],\n",
       "        [236, 232, 204],\n",
       "        [237, 233, 205]],\n",
       "\n",
       "       [[ 85,  89, 117],\n",
       "        [186, 186, 204],\n",
       "        [217, 209, 209],\n",
       "        ...,\n",
       "        [238, 230, 207],\n",
       "        [234, 230, 202],\n",
       "        [230, 226, 198]]], dtype=uint8)"
      ]
     },
     "execution_count": 11,
     "metadata": {},
     "output_type": "execute_result"
    }
   ],
   "source": [
    "cv2.rectangle(template, max_loc, (max_loc[0] + w, max_loc[1] + h), (0,255,255), 2)"
   ]
  },
  {
   "cell_type": "code",
   "execution_count": 12,
   "id": "199dc09a",
   "metadata": {},
   "outputs": [],
   "source": [
    "threshold=.90"
   ]
  },
  {
   "cell_type": "code",
   "execution_count": 13,
   "id": "c31293a0-517e-41d1-a9db-265890f13233",
   "metadata": {},
   "outputs": [],
   "source": [
    "yloc, xloc = numpy.where(result >= threshold)"
   ]
  },
  {
   "cell_type": "code",
   "execution_count": 14,
   "id": "2015571c-3c97-4f99-9f7f-796f4c1324bc",
   "metadata": {},
   "outputs": [
    {
     "data": {
      "text/plain": [
       "10"
      ]
     },
     "execution_count": 14,
     "metadata": {},
     "output_type": "execute_result"
    }
   ],
   "source": [
    "len(xloc)"
   ]
  },
  {
   "cell_type": "code",
   "execution_count": 15,
   "id": "32174b28-641c-494e-a7e7-f92ef1a7a0a0",
   "metadata": {},
   "outputs": [],
   "source": [
    "for (x, y) in zip(xloc, yloc):\n",
    "    cv2.rectangle(image, (x, y), (x + w, y + h), (0,255,255), 2)"
   ]
  },
  {
   "cell_type": "code",
   "execution_count": 16,
   "id": "3eb34ec5-13b8-4819-84b6-0e83df8a3a6f",
   "metadata": {},
   "outputs": [],
   "source": [
    "cv2.imshow('Soccer', image)\n",
    "cv2.waitKey()\n",
    "cv2.destroyAllWindows()"
   ]
  },
  {
   "cell_type": "code",
   "execution_count": 17,
   "id": "8d9d36ba-517c-4bf0-9eb4-96d42dc55527",
   "metadata": {},
   "outputs": [],
   "source": [
    "rectangles = []\n",
    "for (x, y) in zip(xloc, yloc):\n",
    "    rectangles.append([int(x), int(y), int(w), int(h)])\n",
    "    rectangles.append([int(x), int(y), int(w), int(h)])"
   ]
  },
  {
   "cell_type": "code",
   "execution_count": 18,
   "id": "8c165bae-c502-492c-b77d-5dd0528e564c",
   "metadata": {},
   "outputs": [
    {
     "data": {
      "text/plain": [
       "20"
      ]
     },
     "execution_count": 18,
     "metadata": {},
     "output_type": "execute_result"
    }
   ],
   "source": [
    "len(rectangles)"
   ]
  },
  {
   "cell_type": "code",
   "execution_count": 19,
   "id": "c09dabf4-d095-49f6-a602-ccb64f51cb4d",
   "metadata": {},
   "outputs": [],
   "source": [
    "rectangles, weights = cv2.groupRectangles(rectangles, 1, 0.2)"
   ]
  },
  {
   "cell_type": "code",
   "execution_count": 20,
   "id": "436e879c-612b-4075-993b-ae83e691b55e",
   "metadata": {},
   "outputs": [
    {
     "data": {
      "text/plain": [
       "array([[560, 248,  51,  80]])"
      ]
     },
     "execution_count": 20,
     "metadata": {},
     "output_type": "execute_result"
    }
   ],
   "source": [
    "rectangles"
   ]
  },
  {
   "cell_type": "code",
   "execution_count": 21,
   "id": "864fde59-d2de-47b5-b6da-cfbb6b22778a",
   "metadata": {},
   "outputs": [
    {
     "data": {
      "text/plain": [
       "1"
      ]
     },
     "execution_count": 21,
     "metadata": {},
     "output_type": "execute_result"
    }
   ],
   "source": [
    "len(rectangles)"
   ]
  },
  {
   "cell_type": "code",
   "execution_count": null,
   "id": "9f53f72f",
   "metadata": {},
   "outputs": [],
   "source": [
    "cv2.imshow('Soccer', image)\n",
    "cv2.waitKey()\n",
    "cv2.destroyAllWindows()"
   ]
  },
  {
   "cell_type": "code",
   "execution_count": null,
   "id": "e84684bf",
   "metadata": {},
   "outputs": [],
   "source": []
  }
 ],
 "metadata": {
  "kernelspec": {
   "display_name": "Python 3 (ipykernel)",
   "language": "python",
   "name": "python3"
  },
  "language_info": {
   "codemirror_mode": {
    "name": "ipython",
    "version": 3
   },
   "file_extension": ".py",
   "mimetype": "text/x-python",
   "name": "python",
   "nbconvert_exporter": "python",
   "pygments_lexer": "ipython3",
   "version": "3.10.9"
  }
 },
 "nbformat": 4,
 "nbformat_minor": 5
}
