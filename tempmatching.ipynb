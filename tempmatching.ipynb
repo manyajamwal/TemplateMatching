{
 "cells": [
  {
   "cell_type": "code",
   "execution_count": 1,
   "id": "72a95c1d",
   "metadata": {},
   "outputs": [],
   "source": [
    "import numpy\n",
    "import cv2\n"
   ]
  },
  {
   "cell_type": "code",
   "execution_count": 2,
   "id": "0f0ef0c2",
   "metadata": {},
   "outputs": [],
   "source": [
    "image=cv2.imread(r'C:\\Users\\manya\\OpenCV-Tutorials\\soccer.jpg',cv2.IMREAD_UNCHANGED)"
   ]
  },
  {
   "cell_type": "code",
   "execution_count": 3,
   "id": "b0e77f1b",
   "metadata": {},
   "outputs": [],
   "source": [
    "template=cv2.imread(r'C:\\Users\\manya\\OpenCV-Tutorials\\face.jpg',cv2.IMREAD_UNCHANGED)\n"
   ]
  },
  {
   "cell_type": "code",
   "execution_count": 4,
   "id": "a6050f83",
   "metadata": {},
   "outputs": [],
   "source": [
    "cv2.imshow('Soccer', image)\n",
    "cv2.waitKey()\n",
    "cv2.destroyAllWindows()"
   ]
  },
  {
   "cell_type": "code",
   "execution_count": 5,
   "id": "f1c32eac",
   "metadata": {},
   "outputs": [],
   "source": [
    "cv2.imshow('Face', template)\n",
    "cv2.waitKey()\n",
    "cv2.destroyAllWindows()"
   ]
  },
  {
   "cell_type": "code",
   "execution_count": 6,
   "id": "ab0037f2",
   "metadata": {},
   "outputs": [],
   "source": [
    "gray_image = cv2.cvtColor(image, cv2.COLOR_BGR2GRAY)\n",
    "gray_template = cv2.cvtColor(template, cv2.COLOR_BGR2GRAY)"
   ]
  },
  {
   "cell_type": "code",
   "execution_count": 7,
   "id": "97ad63d0",
   "metadata": {},
   "outputs": [],
   "source": [
    "result=cv2.matchTemplate(gray_image, gray_template, cv2.TM_CCOEFF_NORMED)\n"
   ]
  },
  {
   "cell_type": "code",
   "execution_count": 8,
   "id": "589f310e",
   "metadata": {},
   "outputs": [],
   "source": [
    "cv2.imshow('Result', result)\n",
    "cv2.waitKey()\n",
    "cv2.destroyAllWindows()"
   ]
  },
  {
   "cell_type": "code",
   "execution_count": 9,
   "id": "199dc09a",
   "metadata": {},
   "outputs": [],
   "source": [
    "threshold=.70\n",
    "locations = numpy.where(result >= threshold)"
   ]
  },
  {
   "cell_type": "code",
   "execution_count": 10,
   "id": "44c41a7e",
   "metadata": {},
   "outputs": [],
   "source": [
    "min_face_size = (20, 20)\n",
    "max_face_size = (300,300)"
   ]
  },
  {
   "cell_type": "code",
   "execution_count": 11,
   "id": "2cf7dfb6",
   "metadata": {},
   "outputs": [],
   "source": [
    "faces = []\n",
    "for pt in zip(*locations[::-1]):\n",
    "    face_rect = (pt[0], pt[1], template.shape[1], template.shape[0])\n",
    "    if min_face_size[0] <= face_rect[2] <= max_face_size[0] and min_face_size[1] <= face_rect[3] <= max_face_size[1]:\n",
    "        faces.append(face_rect)\n",
    "        \n",
    "        \n",
    "        "
   ]
  },
  {
   "cell_type": "code",
   "execution_count": 12,
   "id": "d4f23bfe",
   "metadata": {},
   "outputs": [],
   "source": [
    "for (x, y, w, h) in faces:\n",
    "    cv2.rectangle(image, (x, y), (x + w, y + h), (0, 255, 0), 2)\n",
    "    "
   ]
  },
  {
   "cell_type": "code",
   "execution_count": null,
   "id": "9f53f72f",
   "metadata": {},
   "outputs": [],
   "source": [
    "cv2.imshow('Soccer', image)\n",
    "cv2.waitKey()\n",
    "cv2.destroyAllWindows()"
   ]
  },
  {
   "cell_type": "code",
   "execution_count": null,
   "id": "6688247d",
   "metadata": {},
   "outputs": [],
   "source": []
  }
 ],
 "metadata": {
  "kernelspec": {
   "display_name": "Python 3 (ipykernel)",
   "language": "python",
   "name": "python3"
  },
  "language_info": {
   "codemirror_mode": {
    "name": "ipython",
    "version": 3
   },
   "file_extension": ".py",
   "mimetype": "text/x-python",
   "name": "python",
   "nbconvert_exporter": "python",
   "pygments_lexer": "ipython3",
   "version": "3.10.9"
  }
 },
 "nbformat": 4,
 "nbformat_minor": 5
}
